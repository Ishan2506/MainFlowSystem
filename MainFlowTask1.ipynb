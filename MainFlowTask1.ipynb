{
  "nbformat": 4,
  "nbformat_minor": 0,
  "metadata": {
    "colab": {
      "provenance": [],
      "authorship_tag": "ABX9TyPV13IaWrjkpLFHWIs6Sl9N",
      "include_colab_link": true
    },
    "kernelspec": {
      "name": "python3",
      "display_name": "Python 3"
    },
    "language_info": {
      "name": "python"
    }
  },
  "cells": [
    {
      "cell_type": "markdown",
      "metadata": {
        "id": "view-in-github",
        "colab_type": "text"
      },
      "source": [
        "<a href=\"https://colab.research.google.com/github/Ishan2506/MainFlowSystem/blob/main/MainFlowTask1.ipynb\" target=\"_parent\"><img src=\"https://colab.research.google.com/assets/colab-badge.svg\" alt=\"Open In Colab\"/></a>"
      ]
    },
    {
      "cell_type": "markdown",
      "source": [
        "# **TASK 1:**"
      ],
      "metadata": {
        "id": "Cg4fukB3dDeR"
      }
    },
    {
      "cell_type": "markdown",
      "source": [
        "**Description**:\n",
        "\n",
        "    This task involves understanding the basic data\n",
        "    types in Python such as lists, dictionaries, and sets."
      ],
      "metadata": {
        "id": "ITln07jWcvP4"
      }
    },
    {
      "cell_type": "markdown",
      "source": [
        "**List:-**\n",
        "\n",
        "    -Create\n",
        "    -Remove\n",
        "    -Modify"
      ],
      "metadata": {
        "id": "8o9narbMd6jV"
      }
    },
    {
      "cell_type": "code",
      "execution_count": 1,
      "metadata": {
        "colab": {
          "base_uri": "https://localhost:8080/"
        },
        "id": "mcV0snUwcqfF",
        "outputId": "f4226795-23e6-4f53-aab5-e7710baa3bb0"
      },
      "outputs": [
        {
          "name": "stdout",
          "output_type": "stream",
          "text": [
            "Enter the number:-1\n",
            "Enter the number:-2\n",
            "Enter the number:-3\n",
            "Enter the number:-4\n",
            "Enter the number:-5\n"
          ]
        }
      ],
      "source": [
        "#create the list\n",
        "lst = []\n",
        "\n",
        "for a in range(5):\n",
        "  lst.append(int(input(\"Enter the number:-\")))"
      ]
    },
    {
      "cell_type": "code",
      "source": [
        "#Print the whole list\n",
        "for i in lst:\n",
        "  print(i)"
      ],
      "metadata": {
        "colab": {
          "base_uri": "https://localhost:8080/"
        },
        "id": "Cjcz6ZMJeHpa",
        "outputId": "d7bace7e-2eb7-4408-d97f-56a0c4141960"
      },
      "execution_count": 2,
      "outputs": [
        {
          "output_type": "stream",
          "name": "stdout",
          "text": [
            "1\n",
            "2\n",
            "3\n",
            "4\n",
            "5\n"
          ]
        }
      ]
    },
    {
      "cell_type": "code",
      "source": [
        "#You can remove element from 2 method\n",
        "# 1.Remove method\n",
        "# 2.Pop method\n",
        "print(\"Before Delete List\",lst)\n",
        "lst.remove(3) # Pass the value in this method\n",
        "lst.pop(1) # Pass the index in this method\n",
        "print(\"After Delete List\",lst)"
      ],
      "metadata": {
        "colab": {
          "base_uri": "https://localhost:8080/"
        },
        "id": "wDOEVviveUrZ",
        "outputId": "a2717670-19fd-4174-b6dd-7e485727d062"
      },
      "execution_count": 3,
      "outputs": [
        {
          "output_type": "stream",
          "name": "stdout",
          "text": [
            "Before Delete List [1, 2, 3, 4, 5]\n",
            "After Delete List [1, 4, 5]\n"
          ]
        }
      ]
    },
    {
      "cell_type": "code",
      "source": [
        "# Modifying the element\n",
        "idx = int(input(\"Enter the index number:-\"))\n",
        "newVal = int(input(\"Enter the new value\"))\n",
        "lst[idx] = newVal\n",
        "print(lst)"
      ],
      "metadata": {
        "colab": {
          "base_uri": "https://localhost:8080/"
        },
        "id": "e54sXs-QeuF9",
        "outputId": "bba0a941-7738-4b33-d4ea-8d27248af760"
      },
      "execution_count": 4,
      "outputs": [
        {
          "output_type": "stream",
          "name": "stdout",
          "text": [
            "Enter the index number:-0\n",
            "Enter the new value3\n",
            "[3, 4, 5]\n"
          ]
        }
      ]
    },
    {
      "cell_type": "markdown",
      "source": [
        "**Dictionaries:**\n",
        "\n",
        "    -Create\n",
        "    -Remove  \n",
        "    -Modify"
      ],
      "metadata": {
        "id": "K0KQpR1pfDk6"
      }
    },
    {
      "cell_type": "code",
      "source": [
        "# Creating the Dictionary\n",
        "dict = {}\n",
        "\n",
        "for num in range(2):\n",
        "  key = input(\"Enter the key:-\")\n",
        "  value = input(\"Enter the value:-\")\n",
        "  dict[key] = value\n",
        "\n",
        "print(\"Dictionaries:-\", dict)"
      ],
      "metadata": {
        "colab": {
          "base_uri": "https://localhost:8080/"
        },
        "id": "_vUrCjtae87A",
        "outputId": "766adb5a-dc23-421c-de85-4c8bffd1a843"
      },
      "execution_count": 5,
      "outputs": [
        {
          "output_type": "stream",
          "name": "stdout",
          "text": [
            "Enter the key:-name\n",
            "Enter the value:-ishan\n",
            "Enter the key:-marks\n",
            "Enter the value:-89\n",
            "Dictionaries:- {'name': 'ishan', 'marks': '89'}\n"
          ]
        }
      ]
    },
    {
      "cell_type": "code",
      "source": [
        "# Removing the key value pair\n",
        "removeEle = input(\"Enter the key:-\")\n",
        "\n",
        "del dict[removeEle]\n",
        "\n",
        "print(\"Dictionaries:-\",dict)"
      ],
      "metadata": {
        "colab": {
          "base_uri": "https://localhost:8080/"
        },
        "id": "_6V03Gd6fV6m",
        "outputId": "dd05ea92-0d44-4771-fef7-25e2a4ec2628"
      },
      "execution_count": 6,
      "outputs": [
        {
          "output_type": "stream",
          "name": "stdout",
          "text": [
            "Enter the key:-marks\n",
            "Dictionaries:- {'name': 'ishan'}\n"
          ]
        }
      ]
    },
    {
      "cell_type": "code",
      "source": [
        "#Modify the value\n",
        "\n",
        "modifyEle = input(\"Enter the key:-\")\n",
        "newValue = input(\"Enter the new value:-\")\n",
        "\n",
        "dict[modifyEle] = newValue\n",
        "print(\"Dictionaries:-\" , dict)\n"
      ],
      "metadata": {
        "colab": {
          "base_uri": "https://localhost:8080/"
        },
        "id": "wharDNJIfhsi",
        "outputId": "53366007-970c-4762-e674-f48e432fad8c"
      },
      "execution_count": 7,
      "outputs": [
        {
          "output_type": "stream",
          "name": "stdout",
          "text": [
            "Enter the key:-name\n",
            "Enter the new value:-Ishan\n",
            "Dictionaries:- {'name': 'Ishan'}\n"
          ]
        }
      ]
    },
    {
      "cell_type": "markdown",
      "source": [
        "**SET:-**\n",
        "\n",
        "    -Create\n",
        "    -Remove  \n",
        "    -Modify"
      ],
      "metadata": {
        "id": "p7ZKrZ6afw8h"
      }
    },
    {
      "cell_type": "code",
      "source": [
        "sets = set()\n",
        "\n",
        "for numm in range(5):\n",
        "  sets.add(int(input(\"Enter the number:-\")))\n",
        "\n",
        "print(sets)"
      ],
      "metadata": {
        "colab": {
          "base_uri": "https://localhost:8080/"
        },
        "id": "ayECJhMjfphb",
        "outputId": "d084d5b8-44b9-4191-fd25-65c9cf4a715d"
      },
      "execution_count": 8,
      "outputs": [
        {
          "output_type": "stream",
          "name": "stdout",
          "text": [
            "Enter the number:-1\n",
            "Enter the number:-2\n",
            "Enter the number:-3\n",
            "Enter the number:-4\n",
            "Enter the number:-5\n",
            "{1, 2, 3, 4, 5}\n"
          ]
        }
      ]
    },
    {
      "cell_type": "code",
      "source": [
        "# Remove the element\n",
        "\n",
        "sets.remove(3)\n",
        "sets"
      ],
      "metadata": {
        "colab": {
          "base_uri": "https://localhost:8080/"
        },
        "id": "ydnbI4dZf4oH",
        "outputId": "ce99d3d7-d917-4799-b062-d6fb363842ef"
      },
      "execution_count": 10,
      "outputs": [
        {
          "output_type": "execute_result",
          "data": {
            "text/plain": [
              "{1, 2, 4, 5}"
            ]
          },
          "metadata": {},
          "execution_count": 10
        }
      ]
    },
    {
      "cell_type": "code",
      "source": [
        "# Modifying the element\n",
        "\n",
        "oEle = int(input(\"Enter the old element:-\"))\n",
        "nEle = int(input(\"Enter the new element:-\"))\n",
        "\n",
        "sets.discard(oEle)\n",
        "sets.add(nEle)\n",
        "\n",
        "print(\"Ssets:-\",sets)"
      ],
      "metadata": {
        "colab": {
          "base_uri": "https://localhost:8080/"
        },
        "id": "aXrFS5eUf9dE",
        "outputId": "90cc4b26-754a-4740-91cd-6399fac8f084"
      },
      "execution_count": 12,
      "outputs": [
        {
          "output_type": "stream",
          "name": "stdout",
          "text": [
            "Enter the old element:-1\n",
            "Enter the new element:-0\n",
            "Ssets:- {0, 2, 4, 5, '0'}\n"
          ]
        }
      ]
    },
    {
      "cell_type": "code",
      "source": [],
      "metadata": {
        "id": "L35bf4CkgEcx"
      },
      "execution_count": null,
      "outputs": []
    }
  ]
}